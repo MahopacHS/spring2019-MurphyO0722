{
  "cells": [
    {
      "metadata": {},
      "cell_type": "markdown",
      "source": "# Now You Code 2: Multiply By\n\nWrite a program to ask for a number to multiply by and then lists the multiplication table for that number from 1 to 10. This process will repeat until you enter quit as which point the program will exit.\n\nWow. Seems complicated! We'll use technique called problem simplification to make this problem a little easier to solve.\n\nFirst we'll write a complete program to solve *part* of the problem, then we will take our new level of understanding to solve the *entire* problem.\n\n## Start with Sub-Problem 1\n\nLet's write a program to simply input a number and then uses a loop to print out the multiplication table up to 10  for that number. \n\nFor example, when you input `5`:\n\n```\nEnter number to multiply by: 5\n1 x 5 = 5\n2 x 5 = 10\n3 x 5 = 15\n4 x 5 = 20\n5 x 5 = 25\n6 x 5 = 30\n7 x 5 = 35\n8 x 5 = 40\n9 x 5 = 45\n10 x 5 = 50\n```\n"
    },
    {
      "metadata": {
        "collapsed": true
      },
      "cell_type": "markdown",
      "source": "## Step 1: Problem Analysis for Sub-Problem 1\n\nInputs:\nnumber\nOutputs:\ncount number answer \nAlgorithm (Steps in Program):\n\ncount = 1\nwhile true\nget input number from user \nequation\nwhile counter lessthan = to 10 \ncontinue to print \n+ 1 to counter total\nif count > 10\nbreak\n"
    },
    {
      "metadata": {
        "trusted": true
      },
      "cell_type": "code",
      "source": "# Step 2: write code for sub-problem 1\ncount = 1\nwhile True:\n    num = int(input(\"Enter a number to multiply: \"))\n    ans = count * num\n    while (count <= 10):\n        print (count,\"x\",num,\"=\",ans)\n        count = count + 1 \n    if (count == 11):\n        break",
      "execution_count": 5,
      "outputs": [
        {
          "output_type": "stream",
          "name": "stdout",
          "text": "Enter a number to multiply: 3\n1 x 3 = 3\n2 x 3 = 3\n3 x 3 = 3\n4 x 3 = 3\n5 x 3 = 3\n6 x 3 = 3\n7 x 3 = 3\n8 x 3 = 3\n9 x 3 = 3\n10 x 3 = 3\n"
        }
      ]
    },
    {
      "metadata": {},
      "cell_type": "markdown",
      "source": "# Full Problem \n\nNow that we've got part of the problem figured out, let's solve the entire problem. The program should keep asking for numbers and then print out multiplcation tables until you enter `quit`. Here's an example:\n\nExample Run:\n\n```\nEnter number to multiply by or type 'quit': 10\n1 x 10 = 10\n2 x 10 = 20\n3 x 10 = 30\n4 x 10 = 40\n5 x 10 = 50\n6 x 10 = 60\n7 x 10 = 70\n8 x 10 = 80\n9 x 10 = 90\n10 x 10 = 100\nEnter number to multiply by or type 'quit': 5\n1 x 5 = 5\n2 x 5 = 10\n3 x 5 = 15\n4 x 5 = 20\n5 x 5 = 25\n6 x 5 = 30\n7 x 5 = 35\n8 x 5 = 40\n9 x 5 = 45\n10 x 5 = 50\nEnter number to multiply by or type 'quit': quit\n```\n\n**NOTE:** you need another loop complete this program. Take the code you wrote in the first part and repeat it in another loop until you type quit. "
    },
    {
      "metadata": {
        "collapsed": true
      },
      "cell_type": "markdown",
      "source": "## Step 3: Problem Analysis for Full Problem\n\nInputs:\ngets number from user, loops program \n\nOutputs:\nnumbers after multiplication \n\nAlgorithm (Steps in Program):\nset count \nwhile true\nget user input for number \nif number = quit then break \nelse multiply \nwhile count less than 10 print equation \n+ 1 to counter \nif count is 11 then count = 1 "
    },
    {
      "metadata": {
        "trusted": true,
        "scrolled": true
      },
      "cell_type": "code",
      "source": "# Step 4: Write code for full problem\n\ncount = 1\nwhile True:\n    num = input(\"Enter a number to multiply or type 'quit': \")\n    if (num =='quit'):\n        print(\"Goodbye.\")\n        break\n    else:\n        ans = count * num\n    while (count <= 10):\n        print (count,\"x\",num,\"=\",ans)\n        count = count + 1 \n    if (count == 11):\n         count = 1\n",
      "execution_count": 11,
      "outputs": [
        {
          "output_type": "stream",
          "name": "stdout",
          "text": "Enter a number to multiply or type 'quit': 10\n1 x 10 = 10\n2 x 10 = 10\n3 x 10 = 10\n4 x 10 = 10\n5 x 10 = 10\n6 x 10 = 10\n7 x 10 = 10\n8 x 10 = 10\n9 x 10 = 10\n10 x 10 = 10\nEnter a number to multiply or type 'quit': 5\n1 x 5 = 5\n2 x 5 = 5\n3 x 5 = 5\n4 x 5 = 5\n5 x 5 = 5\n6 x 5 = 5\n7 x 5 = 5\n8 x 5 = 5\n9 x 5 = 5\n10 x 5 = 5\nEnter a number to multiply or type 'quit': quit\nGoodbye.\n"
        }
      ]
    },
    {
      "metadata": {},
      "cell_type": "markdown",
      "source": "## Step 3: Questions\n\n1. What is the loop control variable for the first (outer) loop?\n2. What is the loop control variable for the second (inner) loop?\n3. Provide at least one way this program can be improved, or make more flexible by introducing more inputs?\n"
    },
    {
      "metadata": {
        "trusted": true
      },
      "cell_type": "code",
      "source": "## Step 3 Question Answers \n1. The loop control variable for the outer loop is if the counter = 1\n2. The loop control variable for the inner loop is if num = quit. \n3. The program can be improved if there are more input options. Typing out the number ex. Three. ",
      "execution_count": null,
      "outputs": []
    },
    {
      "metadata": {},
      "cell_type": "markdown",
      "source": "## Reminder of Evaluation Criteria\n\n1. What the problem attempted (analysis, code, and answered questions) ?\n2. What the problem analysis thought out? (does the program match the plan?)\n3. Does the code execute without syntax error?\n4. Does the code solve the intended problem?\n5. Is the code well written? (easy to understand, modular, and self-documenting, handles errors)\n"
    },
    {
      "metadata": {
        "trusted": true
      },
      "cell_type": "code",
      "source": "## Evaluation Critera Question Answers \n1. The problem attempted was to be able to multiply by whatever number you want up to a multiple of 10. \n2. The program does match the plan.\n3. Yes, the code executes without any syntax errors. \n4. Yes, the code does solve the intended problem. \n5. Yes, the code is easy to understand and use. ",
      "execution_count": null,
      "outputs": []
    }
  ],
  "metadata": {
    "anaconda-cloud": {},
    "kernelspec": {
      "name": "python3",
      "display_name": "Python 3",
      "language": "python"
    },
    "language_info": {
      "mimetype": "text/x-python",
      "nbconvert_exporter": "python",
      "name": "python",
      "pygments_lexer": "ipython3",
      "version": "3.5.4",
      "file_extension": ".py",
      "codemirror_mode": {
        "version": 3,
        "name": "ipython"
      }
    }
  },
  "nbformat": 4,
  "nbformat_minor": 1
}