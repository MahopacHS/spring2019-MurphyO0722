{
  "cells": [
    {
      "metadata": {},
      "cell_type": "markdown",
      "source": "# Now You Code 4: Temperature Conversion\n\nWrite a python program which will convert temperatures from Celcius to Fahrenheight.\nThe program should take a temperature in degrees Celcius as input and output a temperature in degrees Fahrenheight.\n\nExample:\n\n```\nEnter the temperature in Celcius: 100\n100 Celcius is 212 Fahrenheight\n```\n\nHINT: Use the web to find the formula to convert from Celcius to Fahrenheight.\n"
    },
    {
      "metadata": {},
      "cell_type": "markdown",
      "source": "## Step 1: Problem Analysis\n\nInputs:\nThe degrees in celcius is the only input. \nOutputs:\nThe output the the degrees in Fahrenheight.\nAlgorithm (Steps in Program):\nGet input for degrees Celcius. \nCalculate degrees Fahrenheight. \nprint the value of Fahrenheight on the screen. "
    },
    {
      "metadata": {
        "trusted": true
      },
      "cell_type": "code",
      "source": "celcius = float(input(\"Enter a temperature in degrees Celcius: \"))\nFahr = float((celcius * 9/5) + 32)\nprint (\"The temperature\",celcius,\"degrees Celcuis converts to %.1f degrees Fahrenheight\" % (Fahr))\n",
      "execution_count": 14,
      "outputs": [
        {
          "output_type": "stream",
          "name": "stdout",
          "text": "Enter a temperature in degrees Celcius: 100\nThe temperature 100.0 degrees Celcuis converts to degrees 212.0 Fahrenheight\n"
        }
      ]
    },
    {
      "metadata": {},
      "cell_type": "markdown",
      "source": "## Step 3: Questions\n\n1. Why does the program still run when you enter a negative number for temperature? Is this an error?\n2. Would it be difficult to write a program which did the opposite (conversion F to C)? Explain.\n3. Did you store the conversion in a variable before printing it on the last line? I argue this makes your program easier to understand. Why?\n"
    },
    {
      "metadata": {
        "trusted": true
      },
      "cell_type": "code",
      "source": "##Step 3 Question Answers. \n1. The program still runs because there can be negative numbers and temperatures. Also negative numbers are still included in float \nvalues. \n2. No, it would not be difficult to write a program to convert the opposite way. You will have to change the equation to \n(32°F − 32) × 5/9 = 0°C. \n3. Yes I stored the conversion into the variable of Fahr. This makes it easier to understand so your code can be on two different \nlines. It makes it cleaner and easier to understand and if you want to use that variable again you are able to call it again. \n",
      "execution_count": null,
      "outputs": []
    },
    {
      "metadata": {},
      "cell_type": "markdown",
      "source": "## Reminder of Evaluation Criteria\n\n1. What the problem attempted (analysis, code, and answered questions) ?\n2. What the problem analysis thought out? (does the program match the plan?)\n3. Does the code execute without syntax error?\n4. Does the code solve the intended problem?\n5. Is the code well written? (easy to understand, modular, and self-documenting, handles errors)\n"
    },
    {
      "metadata": {
        "collapsed": true,
        "trusted": false
      },
      "cell_type": "code",
      "source": "1. The problem attempted was to make a conversion from Celcius to Fahrenheight. \n2. The program matches the plan and displays the answer at the end of the code. \n3. Yes, the code has no syntax errors. \n4. Yes. The code changes from Celcius to Fahrenheight just as it was intended to do.\n5. Yes. The code is easy to understand and the variables are easily identifiable. ",
      "execution_count": null,
      "outputs": []
    }
  ],
  "metadata": {
    "anaconda-cloud": {},
    "kernelspec": {
      "name": "python3",
      "display_name": "Python 3",
      "language": "python"
    },
    "language_info": {
      "mimetype": "text/x-python",
      "nbconvert_exporter": "python",
      "name": "python",
      "pygments_lexer": "ipython3",
      "version": "3.5.4",
      "file_extension": ".py",
      "codemirror_mode": {
        "version": 3,
        "name": "ipython"
      }
    }
  },
  "nbformat": 4,
  "nbformat_minor": 1
}