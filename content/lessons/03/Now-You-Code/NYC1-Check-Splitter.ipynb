{
  "cells": [
    {
      "metadata": {},
      "cell_type": "markdown",
      "source": "# Now You Code 1: Check Splitter\n\nWrite a Python program which splits up a restaurant check. It first prompts you to input the total amount of your check, then the number of people dining. It should then output the amout each diner must contribute to the check.  For example:\n\n```\n*** Check Splitter ***\nHow much is the amount of the check? 100.00\nHow many people ? 6\nEach person owes: $16.67\n```\n\nNOTE: Use string formatters to display the output to two decimal places.\n"
    },
    {
      "metadata": {
        "collapsed": true
      },
      "cell_type": "markdown",
      "source": "## Step 1: Problem Analysis\n\nInputs: The inputs will be the check amount and the amount of people. \n\nOutputs: The output will be the check amount divided by the amount of people. \n\nAlgorithm (Steps in Program):\nGet input for check.\nGet input for people.\nDivide the check by the people. \nPrint the amount each person must pay. "
    },
    {
      "metadata": {
        "trusted": true
      },
      "cell_type": "code",
      "source": "check = float(input(\"What is the amount of the check? \"))\npeople = int(input(\"How many people? \"))\neach = float(check / people)\nprint (\"Each person has to pay $%.2f\" % (each))",
      "execution_count": 10,
      "outputs": [
        {
          "output_type": "stream",
          "name": "stdout",
          "text": "What is the amount of the check? 100\nHow many people? 6\nEach person has to pay $16.67\n"
        }
      ]
    },
    {
      "metadata": {},
      "cell_type": "markdown",
      "source": "## Step 3: Questions\n\n1. What happens when you enter `TWO` instead of `2` for the number of people dining? or $60 as the amount of the check, instead of 60?\n2. What type of error is this? Do you think it can be handled in code?\n3. Explain what happens when you enter `0.5` for the number of people dining? Does the program run? Does it make sense? \n"
    },
    {
      "metadata": {
        "trusted": true
      },
      "cell_type": "code",
      "source": "## Step 3 Question Answers\n1. You get a ValueError\n2. The program is expecting an interger and the Value it is given is not an interger\n3. The program gives a ValueError because 0.5 is not an interger so the program can not continue to run. ",
      "execution_count": null,
      "outputs": []
    },
    {
      "metadata": {},
      "cell_type": "markdown",
      "source": "## Reminder of Evaluation Criteria\n\n1. What the problem attempted (analysis, code, and answered questions) ?\n2. What the problem analysis thought out? (does the program match the plan?)\n3. Does the code execute without syntax error?\n4. Does the code solve the intended problem?\n5. Is the code well written? (easy to understand, modular, and self-documenting, handles errors)\n"
    },
    {
      "metadata": {
        "collapsed": true,
        "trusted": false
      },
      "cell_type": "code",
      "source": "1. It can evaluate how much each person will owe if they evenly split the bill.\n2. Yes, the program matches what was intended. \n3. Yes, there are no syntax errors. \n4. Yes, the code solves the intended problem. \n5. Yes, the code is easy to understand and well written. ",
      "execution_count": null,
      "outputs": []
    }
  ],
  "metadata": {
    "anaconda-cloud": {},
    "kernelspec": {
      "name": "python3",
      "display_name": "Python 3",
      "language": "python"
    },
    "language_info": {
      "mimetype": "text/x-python",
      "nbconvert_exporter": "python",
      "name": "python",
      "pygments_lexer": "ipython3",
      "version": "3.5.4",
      "file_extension": ".py",
      "codemirror_mode": {
        "version": 3,
        "name": "ipython"
      }
    }
  },
  "nbformat": 4,
  "nbformat_minor": 1
}