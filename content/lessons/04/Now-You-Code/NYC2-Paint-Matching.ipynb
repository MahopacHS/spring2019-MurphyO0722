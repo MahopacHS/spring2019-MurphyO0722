{
  "cells": [
    {
      "metadata": {},
      "cell_type": "markdown",
      "source": "# Now You Code 2: Paint Pricing\n\nHouse Depot, a big-box hardware retailer, has contracted you to create an app to calculate paint prices. \n\nThe price of paint is determined by the following factors:\n- Everyday quality paint is `$19.99` per gallon.\n- Select quality paint is `$24.99` per gallon.\n- Premium quality paint is `$32.99` per gallon.\n\nIn addition if the customer wants computerized color-matching that incurs an additional fee of `$4.99` per gallon. \n\nWrite a program to ask the user to select a paint quality: 'everyday', 'select' or 'premium' and then whether they need color matching and then outputs the price per gallon of the paint.\n\nExample Run 1:\n\n```\nWhich paint quality do you require ['everyday', 'select', 'premium'] ?select\nDo you require color matching [y/n] ?y\nTotal price of select paint with color matching is $29.98\n```\n\nExample Run 2:\n\n```\nWhich paint quality do you require ['everyday', 'select', 'premium'] ?premium\nDo you require color matching [y/n] ?n\nTotal price of premium paint without color matching is $32.99\n```"
    },
    {
      "metadata": {
        "collapsed": true
      },
      "cell_type": "markdown",
      "source": "## Step 1: Problem Analysis\n\nInputs:\npaint quality, color matching \nOutputs:\ntotal price \nAlgorithm (Steps in Program):\n1. \n"
    },
    {
      "metadata": {
        "trusted": true
      },
      "cell_type": "code",
      "source": "# Step 2: Write code here\nPQuality = str(input(\"Which paint quality do you need? [everyday, select, premium] \"))\ntry:\n    \n    if (PQuality == \"everyday\"):\n        total = 19.99\n    elif (PQuality == \"select\"):\n        total = 24.99\n    elif (PQuality == \"premium\"):\n        total = 32.99 \n    else:\n        print (\"Invalid Entry.\")     \n\n    ColorM = str(input(\"Do you want color matching? [y/n] \"))\n    if (ColorM == \"n\"):\n        print (\"Your total cost is $%.2f\" % total)\n    elif (ColorM == \"y\"):\n        total = total + 4.99\n        print (\"Your total cost is $%.2f\" % total)\n    else:\n        print (\"You must enter y or n\")\nexcept: \n    print(\"Invalid Entry.\")",
      "execution_count": 4,
      "outputs": [
        {
          "output_type": "stream",
          "name": "stdout",
          "text": "Which paint quality do you need? [everyday, select, premium] select\nDo you want color matching? [y/n] y\nYour total cost is $29.98\n"
        }
      ]
    },
    {
      "metadata": {},
      "cell_type": "markdown",
      "source": "## Step 3: Questions\n\n1. When you enter something other than `'everyday', 'select',` or  `'premium'` what happens? Modify the program to print `that is not a paint quality` and then exit in those cases.\n2. What happens when you enter something other than `'y'` or `'n'` for color matching? Re-write the program to print `you must enter y or n` whenever you enter something other than those two values.\n3. Why can't we use Python's `try...except` in this example?\n4. How many times (at minimum) must we execute this program and check the results before we can be reasonably assured it is correct?\n"
    },
    {
      "metadata": {},
      "cell_type": "markdown",
      "source": "# Step 3: Question Answers \n   \n1. When you enter something that is not everyday, select, or premium the program says \"Invalid Entry\". \n2. When you enter something that is not y or n the program says \"ou must enter y or n.\" \n3. We can't use try except because this is an if else situation and there are 2 things that need to be tried. \n4. We must execute the program at least 5 times to make sure the program is correct and runs without errors "
    },
    {
      "metadata": {},
      "cell_type": "markdown",
      "source": "## Reminder of Evaluation Criteria\n\n1. What the problem attempted (analysis, code, and answered questions) ?\n2. What the problem analysis thought out? (does the program match the plan?)\n3. Does the code execute without syntax error?\n4. Does the code solve the intended problem?\n5. Is the code well written? (easy to understand, modular, and self-documenting, handles errors)\n"
    },
    {
      "metadata": {
        "collapsed": true,
        "trusted": false
      },
      "cell_type": "markdown",
      "source": "# Evaluation Criteria Answers \n1. The problem attepted was how much paint would be depending on type and color matching.\n2. The program matches the intended plan. \n3. The code executes without any syntax errors \n4. Yes, the code solves the paint matching problem. \n5. The code is well written and easy to understand. "
    }
  ],
  "metadata": {
    "anaconda-cloud": {},
    "kernelspec": {
      "name": "python3",
      "display_name": "Python 3",
      "language": "python"
    },
    "language_info": {
      "mimetype": "text/x-python",
      "nbconvert_exporter": "python",
      "name": "python",
      "pygments_lexer": "ipython3",
      "version": "3.5.4",
      "file_extension": ".py",
      "codemirror_mode": {
        "version": 3,
        "name": "ipython"
      }
    }
  },
  "nbformat": 4,
  "nbformat_minor": 1
}