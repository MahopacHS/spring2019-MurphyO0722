{
  "cells": [
    {
      "metadata": {},
      "cell_type": "markdown",
      "source": "# Now You Code 1: Vote or Retire?\n\n# Part 1\n\nWrite a program to ask for your age as input, then output whether or not you can vote and whether your not you can retire. Let's assume the voting age is 18 or higher, and the retirement age is 65 or higher.\n\n**NOTE:** This program is making two seprate decisions, and thus should have two separate if else statements.\n\nExample Run:\n\n```\nEnter your age: 45\nYou can vote.\nYou cannot retire.\n```\n"
    },
    {
      "metadata": {
        "collapsed": true
      },
      "cell_type": "markdown",
      "source": "## Step 1: Problem Analysis\n\nInputs:\nage\nOutputs:\nYou can vote \nYou can't vote \nYou can retire \nYou can't retire\nAlgorithm (Steps in Program):\n1. get an input for age. \n2. if age over 18 you can vote else you can't \n3. if age more than 65 you can retire else can't \n"
    },
    {
      "metadata": {
        "trusted": true
      },
      "cell_type": "code",
      "source": "#Step 2: write code here\nage = int(input(\"Enter your age: \"))\nif age >= 18:\n    print(\"You can vote.\")\nelse:\n    print(\"You can't vote\")\nif age >= 65:\n    print(\"You can retire\")\nelse:\n    print(\"You can't retire\")",
      "execution_count": 11,
      "outputs": [
        {
          "output_type": "stream",
          "name": "stdout",
          "text": "Enter your age: 65\nYou can vote.\nYou can retire\n"
        }
      ]
    },
    {
      "metadata": {},
      "cell_type": "markdown",
      "source": "# Part 2\n\nNow that you got it working,  re-write your code to handle bad input using Python's `try... except` statement:\n\nExample run:\n\n```\nEnter your age: threve\nThat's not an age!\n```\n\n**Note:** Exception handling is not part of our algorithm. It's a programming concern, not a problem-solving concern!"
    },
    {
      "metadata": {
        "trusted": true
      },
      "cell_type": "code",
      "source": "## Step 2 (again): write code again but handle errors with try...except\nage = input(\"Enter your age: \")\ntry:\n    if age >= 18:\n        print(\"You can vote.\")\n    else:\n        print(\"You can't vote\")\n    if age >= 65:\n        print(\"You can retire\")\n    else:\n        print(\"You can't retire\")\nexcept:\n    print (\"That is not a valid age.\")\n    \n",
      "execution_count": 16,
      "outputs": [
        {
          "output_type": "stream",
          "name": "stdout",
          "text": "Enter your age: hi\nThat is not a valid age.\n"
        }
      ]
    },
    {
      "metadata": {},
      "cell_type": "markdown",
      "source": "## Step 3: Questions\n\n1. What specific Python Error are we handling (please provide the name of it)?\n2. What happens when you enter an age of `-50`? Does the program still run? Fix your program so that it says `That's not an age` when a value less than zero is entered.\n3. How many times (at minimum) must we execute this program and check the results before we can be reasonably assured it is correct?\n"
    },
    {
      "metadata": {},
      "cell_type": "markdown",
      "source": "# Step 3 Question Answers\n\n1. The Python Error we are handling is a syntax error. Also other things handling if the user enters a negative or invalid value.\n2. If you enter -50 the program still runs but it does have the except statement so an invalid value will be recognized.\n3. We must execute the program at least 5 times to make sure it is correct. They are checking 18 and 65 (the >= values), a value in between, a negative number and a string. "
    },
    {
      "metadata": {},
      "cell_type": "markdown",
      "source": "## Reminder of Evaluation Criteria\n\n1. What the problem attempted (analysis, code, and answered questions) ?\n2. What the problem analysis thought out? (does the program match the plan?)\n3. Does the code execute without syntax error?\n4. Does the code solve the intended problem?\n5. Is the code well written? (easy to understand, modular, and self-documenting, handles errors)\n"
    },
    {
      "metadata": {
        "collapsed": true,
        "trusted": false
      },
      "cell_type": "markdown",
      "source": "# Evaluation Criteria Answers \n1. The problem attempted was to decide whether someone can vote, retire, or both based on age.\n2. Yes, the program matches the plan. \n3. Yes, the code has no syntax errors. \n4. Yes, the code solves the intended problem. \n5. Yes, the code is easy to understand and well written. "
    }
  ],
  "metadata": {
    "anaconda-cloud": {},
    "kernelspec": {
      "name": "python3",
      "display_name": "Python 3",
      "language": "python"
    },
    "language_info": {
      "mimetype": "text/x-python",
      "nbconvert_exporter": "python",
      "name": "python",
      "file_extension": ".py",
      "version": "3.5.4",
      "pygments_lexer": "ipython3",
      "codemirror_mode": {
        "version": 3,
        "name": "ipython"
      }
    }
  },
  "nbformat": 4,
  "nbformat_minor": 1
}